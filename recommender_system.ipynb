{
 "cells": [
  {
   "cell_type": "code",
   "source": [
    "#df1 = spark.read.format(\"csv\").option(\"header\", \"true\").load(\"dbfs:/FileStore/shared_uploads/waynewei.lin@mail.utoronto.ca/movies.csv\")\n",
    "\n",
    "# Additional files uploaded\n",
    "# dbfs:/FileStore/shared_uploads/waynewei.lin@mail.utoronto.ca/integer.txt\n",
    "# dbfs:/FileStore/shared_uploads/waynewei.lin@mail.utoronto.ca/salary_1.txt\n",
    "# dbfs:/FileStore/shared_uploads/waynewei.lin@mail.utoronto.ca/shakespeare_1.txt"
   ],
   "metadata": {
    "application/vnd.databricks.v1+cell": {
     "showTitle": false,
     "cellMetadata": {},
     "nuid": "11405f89-c981-4988-802e-01ac48e725e3",
     "inputWidgets": {},
     "title": ""
    }
   },
   "outputs": [],
   "execution_count": 0
  },
  {
   "cell_type": "code",
   "source": [
    "from pyspark.sql import SparkSession\n",
    "from pyspark.sql.types import *\n",
    "from pyspark.sql.functions import *\n"
   ],
   "metadata": {
    "application/vnd.databricks.v1+cell": {
     "showTitle": false,
     "cellMetadata": {},
     "nuid": "e305db5f-c3d1-4930-90c5-e3f6a6c4dd7d",
     "inputWidgets": {},
     "title": ""
    }
   },
   "outputs": [],
   "execution_count": 0
  },
  {
   "cell_type": "code",
   "source": [
    "# Part A\n",
    "#instantiate the spark session\n",
    "spark = SparkSession.builder.appName(\"MIE1628-Ass2\").getOrCreate()"
   ],
   "metadata": {
    "application/vnd.databricks.v1+cell": {
     "showTitle": false,
     "cellMetadata": {},
     "nuid": "1fabbf42-068a-4925-bfdd-b1fb83b189b7",
     "inputWidgets": {},
     "title": ""
    }
   },
   "outputs": [],
   "execution_count": 0
  },
  {
   "cell_type": "code",
   "source": [
    "## Read the file to rdd\n",
    "q1_rdd = spark.sparkContext.textFile(\"/FileStore/shared_uploads/waynewei.lin@mail.utoronto.ca/integer.txt\")\n",
    "\n",
    "# get the odd quantity\n",
    "rddodd = q1_rdd.filter(lambda x: int(x)%2!=0)\n",
    "oddCount = len(rddodd.collect())\n",
    "\n",
    "# get the even quantity\n",
    "rddeven = q1_rdd.filter(lambda x: int(x)%2==0)\n",
    "evenCount = len(rddeven.collect())\n",
    "\n",
    "print('Quantity for odd : %s. Quantity for even: %s .' %(oddCount, evenCount))"
   ],
   "metadata": {
    "application/vnd.databricks.v1+cell": {
     "showTitle": false,
     "cellMetadata": {},
     "nuid": "5375842a-1803-417f-9a23-e06d2bef00a7",
     "inputWidgets": {},
     "title": ""
    }
   },
   "outputs": [
    {
     "output_type": "display_data",
     "metadata": {
      "application/vnd.databricks.v1+output": {
       "name": null,
       "datasetInfos": [],
       "data": "Quantity for odd : 496. Quantity for even: 514 .\n",
       "removedWidgets": [],
       "addedWidgets": {},
       "metadata": {},
       "type": "ansi",
       "arguments": {}
      }
     },
     "data": {
      "text/plain": [
       "Quantity for odd : 496. Quantity for even: 514 .\n"
      ]
     }
    }
   ],
   "execution_count": 0
  },
  {
   "cell_type": "code",
   "source": [
    "## Read the file to rdd\n",
    "q2_rdd = spark.sparkContext.textFile(\"/FileStore/shared_uploads/waynewei.lin@mail.utoronto.ca/salary_1.txt\")\n",
    "\n",
    "# let the each row become key_value type\n",
    "rdddept = q2_rdd.map(lambda x: x.split(\" \"))\n",
    "# rddresult = rdddept.reduceByKey(lambda x,y: int(x)+int(y))\n",
    "# rddresult=rddresult.sortBy(lambda x:x[1], ascending=False, numPartitions=1)\n",
    "# rddresult.collect()"
   ],
   "metadata": {
    "application/vnd.databricks.v1+cell": {
     "showTitle": false,
     "cellMetadata": {},
     "nuid": "67acdd6f-e999-47bc-a3e8-b0fb593e564e",
     "inputWidgets": {},
     "title": ""
    }
   },
   "outputs": [
    {
     "output_type": "display_data",
     "metadata": {
      "application/vnd.databricks.v1+output": {
       "name": null,
       "datasetInfos": [],
       "data": "Out[31]: [['Sales', '9136'],\n ['Research', '13391'],\n ['Developer', '22220'],\n ['QA', '31888'],\n ['Marketing', '22215'],\n ['Sales', '45567'],\n ['Research', '4023'],\n ['Developer', '7262'],\n ['QA', '5243'],\n ['Marketing', '11425'],\n ['Sales', '11956'],\n ['Research', '24149'],\n ['Developer', '18258'],\n ['QA', '22962'],\n ['Marketing', '28960'],\n ['Sales', '8766'],\n ['Research', '18343'],\n ['Developer', '13686'],\n ['QA', '27626'],\n ['Marketing', '32430'],\n ['Sales', '761'],\n ['Research', '22690'],\n ['Developer', '11703'],\n ['QA', '591'],\n ['Marketing', '15249'],\n ['Sales', '15831'],\n ['Research', '28373'],\n ['Developer', '31034'],\n ['QA', '27821'],\n ['Marketing', '25192'],\n ['Sales', '12640'],\n ['Research', '15100'],\n ['Developer', '2781'],\n ['QA', '17773'],\n ['Marketing', '9047'],\n ['Sales', '20425'],\n ['Research', '19555'],\n ['Developer', '10498'],\n ['QA', '18714'],\n ['Marketing', '1209'],\n ['Sales', '16369'],\n ['Research', '3513'],\n ['Developer', '3362'],\n ['QA', '27723'],\n ['Marketing', '25341'],\n ['Sales', '28399'],\n ['Research', '15762'],\n ['Developer', '23792'],\n ['QA', '13328'],\n ['Marketing', '4390'],\n ['Sales', '32523'],\n ['Research', '16805'],\n ['Developer', '18811'],\n ['QA', '12468'],\n ['Marketing', '7741'],\n ['Sales', '23584'],\n ['Research', '16119'],\n ['Developer', '26166'],\n ['QA', '26373'],\n ['Marketing', '4961'],\n ['Sales', '30235'],\n ['Research', '28664'],\n ['Developer', '854'],\n ['QA', '1527'],\n ['Marketing', '19095'],\n ['Sales', '802'],\n ['Research', '12028'],\n ['Developer', '19730'],\n ['QA', '4230'],\n ['Marketing', '20693'],\n ['Sales', '30024'],\n ['Research', '26509'],\n ['Developer', '28672'],\n ['QA', '9694'],\n ['Marketing', '19383'],\n ['Sales', '5109'],\n ['Research', '30878'],\n ['Developer', '1891'],\n ['QA', '9489'],\n ['Marketing', '2365'],\n ['Sales', '4575'],\n ['Research', '30776'],\n ['Developer', '15514'],\n ['QA', '18658'],\n ['Marketing', '6825'],\n ['Sales', '1034'],\n ['Research', '17170'],\n ['Developer', '25976'],\n ['QA', '15512'],\n ['Marketing', '18823'],\n ['Sales', '30829'],\n ['Research', '22366'],\n ['Developer', '25931'],\n ['QA', '20532'],\n ['Marketing', '13467'],\n ['Sales', '27506'],\n ['Research', '17965'],\n ['Developer', '13427'],\n ['QA', '7150'],\n ['Marketing', '12812'],\n ['Sales', '17270'],\n ['Research', '1505'],\n ['Developer', '14103'],\n ['QA', '29018'],\n ['Marketing', '31533'],\n ['Sales', '27556'],\n ['Research', '28322'],\n ['Developer', '26138'],\n ['QA', '27642'],\n ['Marketing', '10195'],\n ['Sales', '7673'],\n ['Research', '27175'],\n ['Developer', '13211'],\n ['QA', '14649'],\n ['Marketing', '29983'],\n ['Sales', '29705'],\n ['Research', '5584'],\n ['Developer', '8096'],\n ['QA', '24383'],\n ['Marketing', '8854'],\n ['Sales', '14432'],\n ['Research', '17036'],\n ['Developer', '1777'],\n ['QA', '29267'],\n ['Marketing', '21468'],\n ['Sales', '18406'],\n ['Research', '23978'],\n ['Developer', '30412'],\n ['QA', '29962'],\n ['Marketing', '2840'],\n ['Sales', '650'],\n ['Research', '15323'],\n ['Developer', '11725'],\n ['QA', '761'],\n ['Marketing', '14115'],\n ['Sales', '32657'],\n ['Research', '2860'],\n ['Developer', '4006'],\n ['QA', '26615'],\n ['Marketing', '10112'],\n ['Sales', '28482'],\n ['Research', '31805'],\n ['Developer', '14928'],\n ['QA', '4086'],\n ['Marketing', '30092'],\n ['Sales', '27532'],\n ['Research', '23696'],\n ['Developer', '8319'],\n ['QA', '31889'],\n ['Marketing', '15785'],\n ['Sales', '14000'],\n ['Research', '5216'],\n ['Developer', '12595'],\n ['QA', '14051'],\n ['Marketing', '6920'],\n ['Sales', '26105'],\n ['Research', '21137'],\n ['Developer', '27454'],\n ['QA', '24189'],\n ['Marketing', '1198'],\n ['Sales', '19794'],\n ['Research', '21773'],\n ['Developer', '31047'],\n ['QA', '19052'],\n ['Marketing', '6715'],\n ['Sales', '6423'],\n ['Research', '15640'],\n ['Developer', '3861'],\n ['QA', '20108'],\n ['Marketing', '32632'],\n ['Sales', '20646'],\n ['Research', '31163'],\n ['Developer', '27634'],\n ['QA', '23862'],\n ['Marketing', '12730'],\n ['Sales', '16698'],\n ['Research', '23859'],\n ['Developer', '28518'],\n ['QA', '17903'],\n ['Marketing', '29377'],\n ['Sales', '14'],\n ['Research', '9572'],\n ['Developer', '24761'],\n ['QA', '6281'],\n ['Marketing', '24792'],\n ['Sales', '15736'],\n ['Research', '19475'],\n ['Developer', '8409'],\n ['QA', '1755'],\n ['Marketing', '8997'],\n ['Sales', '29146'],\n ['Research', '15029'],\n ['Developer', '31839'],\n ['QA', '32429'],\n ['Marketing', '4886'],\n ['Sales', '7763'],\n ['Research', '26173'],\n ['Developer', '12609'],\n ['QA', '22695'],\n ['Marketing', '30526'],\n ['Sales', '14834'],\n ['Research', '17919'],\n ['Developer', '7650'],\n ['QA', '30122'],\n ['Marketing', '1268'],\n ['Sales', '27729'],\n ['Research', '18526'],\n ['Developer', '6009'],\n ['QA', '4787'],\n ['Marketing', '13394'],\n ['Sales', '30214'],\n ['Research', '16710'],\n ['Developer', '28740'],\n ['QA', '14005'],\n ['Marketing', '16091'],\n ['Sales', '15170'],\n ['Research', '9875'],\n ['Developer', '12909'],\n ['QA', '12889'],\n ['Marketing', '6275'],\n ['Sales', '30224'],\n ['Research', '16947'],\n ['Developer', '14371'],\n ['QA', '5128'],\n ['Marketing', '8486'],\n ['Sales', '20113'],\n ['Research', '6527'],\n ['Developer', '2260'],\n ['QA', '8210'],\n ['Marketing', '7831'],\n ['Sales', '2958'],\n ['Research', '10202'],\n ['Developer', '27500'],\n ['QA', '15574'],\n ['Marketing', '4901'],\n ['Sales', '27305'],\n ['Research', '2814'],\n ['Developer', '24032'],\n ['QA', '15503'],\n ['Marketing', '24189'],\n ['Sales', '2799'],\n ['Research', '21723'],\n ['Developer', '5010'],\n ['QA', '27578'],\n ['Marketing', '3753'],\n ['Sales', '31069'],\n ['Research', '27804'],\n ['Developer', '31158'],\n ['QA', '9371'],\n ['Marketing', '31677'],\n ['Sales', '26733'],\n ['Research', '27101'],\n ['Developer', '27417'],\n ['QA', '21051'],\n ['Marketing', '14278'],\n ['Sales', '25464'],\n ['Research', '27002'],\n ['Developer', '25566'],\n ['QA', '4941'],\n ['Marketing', '25415'],\n ['Sales', '27655'],\n ['Research', '27384'],\n ['Developer', '22424'],\n ['QA', '17702'],\n ['Marketing', '31634'],\n ['Sales', '27723'],\n ['Research', '17206'],\n ['Developer', '11682'],\n ['QA', '30297'],\n ['Marketing', '29008'],\n ['Sales', '16292'],\n ['Research', '17355'],\n ['Developer', '22618'],\n ['QA', '8033'],\n ['Marketing', '20079'],\n ['Sales', '32347'],\n ['Research', '5467'],\n ['Developer', '10256'],\n ['QA', '14423'],\n ['Marketing', '4476'],\n ['Sales', '31074'],\n ['Research', '17419'],\n ['Developer', '12880'],\n ['QA', '22301'],\n ['Marketing', '22878'],\n ['Sales', '24379'],\n ['Research', '16716'],\n ['Developer', '29729'],\n ['QA', '14385'],\n ['Marketing', '7408'],\n ['Sales', '28480'],\n ['Research', '30269'],\n ['Developer', '22871'],\n ['QA', '27708'],\n ['Marketing', '31438'],\n ['Sales', '10725'],\n ['Research', '16407'],\n ['Developer', '30676'],\n ['QA', '14802'],\n ['Marketing', '31221'],\n ['Sales', '12777'],\n ['Research', '31849'],\n ['Developer', '11195'],\n ['QA', '14720'],\n ['Marketing', '16977'],\n ['Sales', '5622'],\n ['Research', '9286'],\n ['Developer', '17341'],\n ['QA', '28182'],\n ['Marketing', '2810'],\n ['Sales', '28628'],\n ['Research', '29840'],\n ['Developer', '29306'],\n ['QA', '1262'],\n ['Marketing', '19687'],\n ['Sales', '3473'],\n ['Research', '21681'],\n ['Developer', '20797'],\n ['QA', '12270'],\n ['Marketing', '30548'],\n ['Sales', '1102'],\n ['Research', '23601'],\n ['Developer', '24437'],\n ['QA', '8615'],\n ['Marketing', '3913'],\n ['Sales', '17942'],\n ['Research', '30392'],\n ['Developer', '26663'],\n ['QA', '1570'],\n ['Marketing', '22422'],\n ['Sales', '4347'],\n ['Research', '27687'],\n ['Developer', '9926'],\n ['QA', '20782'],\n ['Marketing', '21527'],\n ['Sales', '3206'],\n ['Research', '22698'],\n ['Developer', '10779'],\n ['QA', '11998'],\n ['Marketing', '7759'],\n ['Sales', '32372'],\n ['Research', '6442'],\n ['Developer', '29270'],\n ['QA', '11970'],\n ['Marketing', '8235'],\n ['Sales', '14181'],\n ['Research', '5781'],\n ['Developer', '22990'],\n ['QA', '13964'],\n ['Marketing', '20643'],\n ['Sales', '9933'],\n ['Research', '288'],\n ['Developer', '3947'],\n ['QA', '21'],\n ['Marketing', '14961'],\n ['Sales', '29701'],\n ['Research', '6164'],\n ['Developer', '30618'],\n ['QA', '28722'],\n ['Marketing', '7238'],\n ['Sales', '25432'],\n ['Research', '25922'],\n ['Developer', '6640'],\n ['QA', '2317'],\n ['Marketing', '32081'],\n ['Sales', '9483'],\n ['Research', '18203'],\n ['Developer', '26915'],\n ['QA', '19892'],\n ['Marketing', '5540'],\n ['Sales', '5126'],\n ['Research', '19763'],\n ['Developer', '3758'],\n ['QA', '28025'],\n ['Marketing', '26080'],\n ['Sales', '5710'],\n ['Research', '880'],\n ['Developer', '21053'],\n ['QA', '18163'],\n ['Marketing', '12903'],\n ['Sales', '18453'],\n ['Research', '6763'],\n ['Developer', '17360'],\n ['QA', '25271'],\n ['Marketing', '9979'],\n ['Sales', '19936'],\n ['Research', '20994'],\n ['Developer', '8742'],\n ['QA', '7529'],\n ['Marketing', '3376'],\n ['Sales', '27614'],\n ['Research', '2685'],\n ['Developer', '27142'],\n ['QA', '29028'],\n ['Marketing', '32629'],\n ['Sales', '13813'],\n ['Research', '8300'],\n ['Developer', '21349'],\n ['QA', '19099'],\n ['Marketing', '9499'],\n ['Sales', '13097'],\n ['Research', '32425'],\n ['Developer', '22510'],\n ['QA', '6183'],\n ['Marketing', '31853'],\n ['Sales', '4606'],\n ['Research', '26360'],\n ['Developer', '21896'],\n ['QA', '9187'],\n ['Marketing', '14130'],\n ['Sales', '31295'],\n ['Research', '6757'],\n ['Developer', '5817'],\n ['QA', '6240'],\n ['Marketing', '28733'],\n ['Sales', '32682'],\n ['Research', '14741'],\n ['Developer', '15679'],\n ['QA', '19966'],\n ['Marketing', '32075'],\n ['Sales', '26647'],\n ['Research', '2419'],\n ['Developer', '12565'],\n ['QA', '8887'],\n ['Marketing', '19958'],\n ['Sales', '4897'],\n ['Research', '1021'],\n ['Developer', '5495'],\n ['QA', '5477'],\n ['Marketing', '30336'],\n ['Sales', '31916'],\n ['Research', '14875'],\n ['Developer', '30131'],\n ['QA', '27290'],\n ['Marketing', '19878'],\n ['Sales', '9069'],\n ['Research', '4595'],\n ['Developer', '8681'],\n ['QA', '31415'],\n ['Marketing', '10554'],\n ['Sales', '31147'],\n ['Research', '7828'],\n ['Developer', '14949'],\n ['QA', '29625'],\n ['Marketing', '12651'],\n ['Sales', '17112'],\n ['Research', '16261'],\n ['Developer', '29898'],\n ['QA', '17417'],\n ['Marketing', '22131'],\n ['Sales', '25227'],\n ['Research', '18383'],\n ['Developer', '7130'],\n ['QA', '16617'],\n ['Marketing', '15716'],\n ['Sales', '8016'],\n ['Research', '2623'],\n ['Developer', '20430'],\n ['QA', '2240'],\n ['Marketing', '10531'],\n ['Sales', '3733'],\n ['Research', '11684'],\n ['Developer', '6924'],\n ['QA', '32306'],\n ['Marketing', '22396'],\n ['Sales', '14086'],\n ['Research', '5624'],\n ['Developer', '7726'],\n ['QA', '31720'],\n ['Marketing', '6713'],\n ['Sales', '27668'],\n ['Research', '23608'],\n ['Developer', '13014'],\n ['QA', '20073'],\n ['Marketing', '1616'],\n ['Sales', '4671'],\n ['Research', '2635'],\n ['Developer', '28801'],\n ['QA', '28008'],\n ['Marketing', '1787'],\n ['Sales', '29776'],\n ['Research', '20304'],\n ['Developer', '11393'],\n ['QA', '29519'],\n ['Marketing', '1052'],\n ['Sales', '26860'],\n ['Research', '12416'],\n ['Developer', '17802'],\n ['QA', '4087'],\n ['Marketing', '27809'],\n ['Sales', '23266'],\n ['Research', '21071'],\n ['Developer', '7441'],\n ['QA', '7687'],\n ['Marketing', '2326'],\n ['Sales', '12147'],\n ['Research', '28760'],\n ['Developer', '29608'],\n ['QA', '30206'],\n ['Marketing', '15846'],\n ['Sales', '1673'],\n ['Research', '19143'],\n ['Developer', '1143'],\n ['QA', '25646'],\n ['Marketing', '22548'],\n ['Sales', '20239'],\n ['Research', '13094'],\n ['Developer', '19572'],\n ['QA', '9774'],\n ['Marketing', '26291'],\n ['Sales', '7912'],\n ['Research', '21100'],\n ['Developer', '30665'],\n ['QA', '27997'],\n ['Marketing', '11698'],\n ['Sales', '23406'],\n ['Research', '16420'],\n ['Developer', '20911'],\n ['QA', '22272'],\n ['Marketing', '30606'],\n ['Sales', '26527'],\n ['Research', '21419'],\n ['Developer', '18113'],\n ['QA', '1423'],\n ['Marketing', '5612'],\n ['Sales', '25733'],\n ['Research', '5922'],\n ['Developer', '2502'],\n ['QA', '22901'],\n ['Marketing', '20553'],\n ['Sales', '10833'],\n ['Research', '22122'],\n ['Developer', '4718'],\n ['QA', '14461'],\n ['Marketing', '28477'],\n ['Sales', '12589'],\n ['Research', '15662'],\n ['Developer', '18713'],\n ['QA', '24512'],\n ['Marketing', '26454'],\n ['Sales', '3173'],\n ['Research', '30613'],\n ['Developer', '7389'],\n ['QA', '18266'],\n ['Marketing', '11172'],\n ['Sales', '22628'],\n ['Research', '16026'],\n ['Developer', '8011'],\n ['QA', '19767'],\n ['Marketing', '4022'],\n ['Sales', '5349'],\n ['Research', '7584'],\n ['Developer', '10874'],\n ['QA', '25585'],\n ['Marketing', '3136'],\n ['Sales', '875'],\n ['Research', '3555'],\n ['Developer', '1261'],\n ['QA', '1186'],\n ['Marketing', '18852'],\n ['Sales', '881'],\n ['Research', '7805'],\n ['Developer', '31052'],\n ['QA', '18340'],\n ['Marketing', '3076'],\n ['Sales', '12550'],\n ['Research', '8688'],\n ['Developer', '23374'],\n ['QA', '4228'],\n ['Marketing', '9575'],\n ['Sales', '19481'],\n ['Research', '22214'],\n ['Developer', '5412'],\n ['QA', '17145'],\n ['Marketing', '13193'],\n ['Sales', '15555'],\n ['Research', '17945'],\n ['Developer', '14243'],\n ['QA', '31664'],\n ['Marketing', '8324'],\n ['Sales', '4939'],\n ['Research', '27818'],\n ['Developer', '11409'],\n ['QA', '458'],\n ['Marketing', '11953'],\n ['Sales', '17069'],\n ['Research', '14800'],\n ['Developer', '12198'],\n ['QA', '31970'],\n ['Marketing', '5885'],\n ['Sales', '987'],\n ['Research', '15375'],\n ['Developer', '8872'],\n ['QA', '27138'],\n ['Marketing', '28145'],\n ['Sales', '9408'],\n ['Research', '23277'],\n ['Developer', '12220'],\n ['QA', '10821'],\n ['Marketing', '25595'],\n ['Sales', '9791'],\n ['Research', '19149'],\n ['Developer', '12189'],\n ['QA', '14524'],\n ['Marketing', '24663'],\n ['Sales', '11951'],\n ['Research', '2867'],\n ['Developer', '1398'],\n ['QA', '24454'],\n ['Marketing', '9394'],\n ['Sales', '26035'],\n ['Research', '7118'],\n ['Developer', '5035'],\n ['QA', '27529'],\n ['Marketing', '10907'],\n ['Sales', '32297'],\n ['Research', '3755'],\n ['Developer', '18448'],\n ['QA', '13365'],\n ['Marketing', '12421'],\n ['Sales', '5758'],\n ['Research', '21266'],\n ['Developer', '7615'],\n ['QA', '14214'],\n ['Marketing', '3275'],\n ['Sales', '15177'],\n ['Research', '31900'],\n ['Developer', '9558'],\n ['QA', '25971'],\n ['Marketing', '14464'],\n ['Sales', '4206'],\n ['Research', '24086'],\n ['Developer', '21743'],\n ['QA', '19263'],\n ['Marketing', '23787'],\n ['Sales', '28610'],\n ['Research', '29652'],\n ['Developer', '630'],\n ['QA', '25306'],\n ['Marketing', '6136'],\n ['Sales', '16703'],\n ['Research', '13786'],\n ['Developer', '20644'],\n ['QA', '4557'],\n ['Marketing', '31279'],\n ['Sales', '19390'],\n ['Research', '26122'],\n ['Developer', '30261'],\n ['QA', '19463'],\n ['Marketing', '5397'],\n ['Sales', '16758'],\n ['Research', '18465'],\n ['Developer', '18782'],\n ['QA', '25675'],\n ['Marketing', '6948'],\n ['Sales', '3413'],\n ['Research', '26921'],\n ['Developer', '12343'],\n ['QA', '5117'],\n ['Marketing', '1136'],\n ['Sales', '2876'],\n ['Research', '12549'],\n ['Developer', '25854'],\n ['QA', '2812'],\n ['Marketing', '28077'],\n ['Sales', '15625'],\n ['Research', '18631'],\n ['Developer', '13762'],\n ['QA', '582'],\n ['Marketing', '2383'],\n ['Sales', '22564'],\n ['Research', '22728'],\n ['Developer', '21782'],\n ['QA', '21693'],\n ['Marketing', '28365'],\n ['Sales', '30193'],\n ['Research', '19606'],\n ['Developer', '13725'],\n ['QA', '9528'],\n ['Marketing', '21759'],\n ['Sales', '24249'],\n ['Research', '29689'],\n ['Developer', '736'],\n ['QA', '26451'],\n ['Marketing', '7395'],\n ['Sales', '11590'],\n ['Research', '2708'],\n ['Developer', '21276'],\n ['QA', '7168'],\n ['Marketing', '1718'],\n ['Sales', '28641'],\n ['Research', '18105'],\n ['Developer', '22982'],\n ['QA', '210'],\n ['Marketing', '31213'],\n ['Sales', '2869'],\n ['Research', '26641'],\n ['Developer', '4663'],\n ['QA', '8983'],\n ['Marketing', '6084'],\n ['Sales', '955'],\n ['Research', '17214'],\n ['Developer', '16015'],\n ['QA', '21817'],\n ['Marketing', '26547'],\n ['Sales', '28542'],\n ['Research', '1834'],\n ['Developer', '2647'],\n ['QA', '4228'],\n ['Marketing', '4690'],\n ['Sales', '30514'],\n ['Research', '4985'],\n ['Developer', '11102'],\n ['QA', '27529'],\n ['Marketing', '14716'],\n ['Sales', '10545'],\n ['Research', '27972'],\n ['Developer', '16955'],\n ['QA', '44'],\n ['Marketing', '30244'],\n ['Sales', '25830'],\n ['Research', '25888'],\n ['Developer', '25691'],\n ['QA', '20424'],\n ['Marketing', '3467'],\n ['Sales', '26093'],\n ['Research', '26506'],\n ['Developer', '22529'],\n ['QA', '22868'],\n ['Marketing', '16032'],\n ['Sales', '22830'],\n ['Research', '1741'],\n ['Developer', '12647'],\n ['QA', '6393'],\n ['Marketing', '12866'],\n ['Sales', '14677'],\n ['Research', '6817'],\n ['Developer', '39'],\n ['QA', '11489'],\n ['Marketing', '2608'],\n ['Sales', '6172'],\n ['Research', '3844'],\n ['Developer', '7224'],\n ['QA', '26850'],\n ['Marketing', '7172'],\n ['Sales', '7623'],\n ['Research', '7345'],\n ['Developer', '25281'],\n ['QA', '13433'],\n ['Marketing', '14515'],\n ['Sales', '6361'],\n ['Research', '8495'],\n ['Developer', '15674'],\n ['QA', '2057'],\n ['Marketing', '24231'],\n ['Sales', '31978'],\n ['Research', '10765'],\n ['Developer', '23292'],\n ['QA', '6783'],\n ['Marketing', '13763'],\n ['Sales', '28289'],\n ['Research', '9300'],\n ['Developer', '17433'],\n ['QA', '26057'],\n ['Marketing', '9971'],\n ['Sales', '26003'],\n ['Research', '17004'],\n ['Developer', '25774'],\n ['QA', '3366'],\n ['Marketing', '23090'],\n ['Sales', '15458'],\n ['Research', '29145'],\n ['Developer', '13272'],\n ['QA', '1385'],\n ['Marketing', '31590'],\n ['Sales', '2831'],\n ['Research', '17497'],\n ['Developer', '1902'],\n ['QA', '30348'],\n ['Marketing', '7137'],\n ['Sales', '32307'],\n ['Research', '9487'],\n ['Developer', '10537'],\n ['QA', '32145'],\n ['Marketing', '23791'],\n ['Sales', '28331'],\n ['Research', '24490'],\n ['Developer', '27470'],\n ['QA', '31705'],\n ['Marketing', '2390'],\n ['Sales', '13971'],\n ['Research', '9820'],\n ['Developer', '6165'],\n ['QA', '17823'],\n ['Marketing', '1293'],\n ['Sales', '25014'],\n ['Research', '14693'],\n ['Developer', '23053'],\n ['QA', '24381'],\n ['Marketing', '29669'],\n ['Sales', '31562'],\n ['Research', '29278'],\n ['Developer', '14360'],\n ['QA', '31562'],\n ['Marketing', '24711'],\n ['Sales', '24584'],\n ['Research', '20722'],\n ['Developer', '6398'],\n ['QA', '5431'],\n ['Marketing', '31762'],\n ['Sales', '10834'],\n ['Research', '19173'],\n ['Developer', '22947'],\n ['QA', '14751'],\n ['Marketing', '13537'],\n ['Sales', '29318'],\n ['Research', '31370'],\n ['Developer', '22408'],\n ['QA', '24346'],\n ['Marketing', '32667'],\n ['Sales', '16820'],\n ['Research', '20916'],\n ['Developer', '11933'],\n ['QA', '1739'],\n ['Marketing', '6983'],\n ['Sales', '30873'],\n ['Research', '12421'],\n ['Developer', '4559'],\n ['QA', '23260'],\n ['Marketing', '25478'],\n ['Sales', '8009'],\n ['Research', '13537'],\n ['Developer', '27164'],\n ['QA', '1308'],\n ['Marketing', '19632'],\n ['Sales', '2683'],\n ['Research', '24645'],\n ['Developer', '8393'],\n ['QA', '15189'],\n ['Marketing', '29509'],\n ['Sales', '31564'],\n ['Research', '25977'],\n ['Developer', '17194'],\n ['QA', '9225'],\n ['Marketing', '990'],\n ['Sales', '9965'],\n ['Research', '22931'],\n ['Developer', '24995'],\n ['QA', '24848'],\n ['Marketing', '5381'],\n ['Sales', '11418'],\n ['Research', '4074'],\n ['Developer', '6544'],\n ['QA', '28224'],\n ['Marketing', '27930'],\n ['Sales', '26115'],\n ['Research', '3233'],\n ['Developer', '24953'],\n ['QA', '9427'],\n ['Marketing', '19839'],\n ['Sales', '29063'],\n ['Research', '958'],\n ['Developer', '19960'],\n ['QA', '7741'],\n ['Marketing', '5166'],\n ['Sales', '1847'],\n ['Research', '2503'],\n ['Developer', '5930'],\n ['QA', '31469'],\n ['Marketing', '11522'],\n ['Sales', '4826'],\n ['Research', '246'],\n ['Developer', '21965'],\n ['QA', '22160'],\n ['Marketing', '13571'],\n ['Sales', '3233'],\n ['Research', '27833'],\n ['Developer', '10666'],\n ['QA', '9751'],\n ['Marketing', '2269'],\n ['Sales', '15484'],\n ['Research', '9891'],\n ['Developer', '16392'],\n ['QA', '4245'],\n ['Marketing', '28696'],\n ['Sales', '24344'],\n ['Research', '17229'],\n ['Developer', '15952'],\n ['QA', '8569'],\n ['Marketing', '11715'],\n ['Sales', '10755'],\n ['Research', '22079'],\n ['Developer', '416'],\n ['QA', '28085'],\n ['Marketing', '15500'],\n ['Sales', '13792'],\n ['Research', '9028'],\n ['Developer', '2241'],\n ['QA', '22544'],\n ['Marketing', '11270'],\n ['Sales', '29814'],\n ['Research', '12566'],\n ['Developer', '26323'],\n ['QA', '23978'],\n ['Marketing', '32758'],\n ['Sales', '6389'],\n ['Research', '15709'],\n ['Developer', '32220'],\n ['QA', '14490'],\n ['Marketing', '10067'],\n ['Sales', '4498'],\n ['Research', '24734'],\n ['Developer', '24758'],\n ['QA', '6762'],\n ['Marketing', '25549'],\n ['Sales', '21740'],\n ['Research', '2229'],\n ['Developer', '24417'],\n ['QA', '3197'],\n ['Marketing', '11224'],\n ['Sales', '9357'],\n ['Research', '32542'],\n ['Developer', '11731'],\n ['QA', '12322'],\n ['Marketing', '14916'],\n ['Sales', '30903'],\n ['Research', '31232'],\n ['Developer', '29235'],\n ['QA', '9055'],\n ['Marketing', '2169'],\n ['Sales', '30844'],\n ['Research', '15234'],\n ['Developer', '10160'],\n ['QA', '18420'],\n ['Marketing', '5283'],\n ['Sales', '4747'],\n ['Research', '3104'],\n ['Developer', '12621'],\n ['QA', '25722'],\n ['Marketing', '23149'],\n ['Sales', '32682'],\n ['Research', '7281'],\n ['Developer', '29907'],\n ['QA', '9662'],\n ['Marketing', '12709'],\n ['Sales', '2671'],\n ['Research', '10884'],\n ['Developer', '26494'],\n ['QA', '13688'],\n ['Marketing', '6466'],\n ['Sales', '32716'],\n ['Research', '18751'],\n ['Developer', '27067'],\n ['QA', '18163'],\n ['Marketing', '6177'],\n ['Sales', '23644'],\n ['Research', '30986'],\n ['Developer', '16803'],\n ['QA', '28996'],\n ['Marketing', '21691'],\n ['Sales', '25206'],\n ['Research', '1827'],\n ['Developer', '11795'],\n ['QA', '1284'],\n ['Marketing', '32572'],\n ['Sales', '3589'],\n ['Research', '11594'],\n ['Developer', '3459'],\n ['QA', '24496'],\n ['Marketing', '17983'],\n ['Sales', '6116'],\n ['Research', '11566'],\n ['Developer', '26517'],\n ['QA', '16760'],\n ['Marketing', '29007'],\n ['Sales', '13492'],\n ['Research', '29463'],\n ['Developer', '4227'],\n ['QA', '25220'],\n ['Marketing', '6915'],\n ['Sales', '5812'],\n ['Research', '15460'],\n ['Developer', '8293'],\n ['QA', '5067'],\n ['Marketing', '14641'],\n ['Sales', '25791'],\n ['Research', '27903'],\n ['Developer', '10673'],\n ['QA', '31812'],\n ['Marketing', '9104'],\n ['Sales', '25745'],\n ['Research', '2361'],\n ['Developer', '17727'],\n ['QA', '28573'],\n ['Marketing', '29163'],\n ['Sales', '15298'],\n ['Research', '28164'],\n ['Developer', '3931'],\n ['QA', '29280'],\n ['Marketing', '9058'],\n ...]",
       "removedWidgets": [],
       "addedWidgets": {},
       "metadata": {},
       "type": "ansi",
       "arguments": {}
      }
     },
     "data": {
      "text/plain": [
       "Out[31]: [['Sales', '9136'],\n ['Research', '13391'],\n ['Developer', '22220'],\n ['QA', '31888'],\n ['Marketing', '22215'],\n ['Sales', '45567'],\n ['Research', '4023'],\n ['Developer', '7262'],\n ['QA', '5243'],\n ['Marketing', '11425'],\n ['Sales', '11956'],\n ['Research', '24149'],\n ['Developer', '18258'],\n ['QA', '22962'],\n ['Marketing', '28960'],\n ['Sales', '8766'],\n ['Research', '18343'],\n ['Developer', '13686'],\n ['QA', '27626'],\n ['Marketing', '32430'],\n ['Sales', '761'],\n ['Research', '22690'],\n ['Developer', '11703'],\n ['QA', '591'],\n ['Marketing', '15249'],\n ['Sales', '15831'],\n ['Research', '28373'],\n ['Developer', '31034'],\n ['QA', '27821'],\n ['Marketing', '25192'],\n ['Sales', '12640'],\n ['Research', '15100'],\n ['Developer', '2781'],\n ['QA', '17773'],\n ['Marketing', '9047'],\n ['Sales', '20425'],\n ['Research', '19555'],\n ['Developer', '10498'],\n ['QA', '18714'],\n ['Marketing', '1209'],\n ['Sales', '16369'],\n ['Research', '3513'],\n ['Developer', '3362'],\n ['QA', '27723'],\n ['Marketing', '25341'],\n ['Sales', '28399'],\n ['Research', '15762'],\n ['Developer', '23792'],\n ['QA', '13328'],\n ['Marketing', '4390'],\n ['Sales', '32523'],\n ['Research', '16805'],\n ['Developer', '18811'],\n ['QA', '12468'],\n ['Marketing', '7741'],\n ['Sales', '23584'],\n ['Research', '16119'],\n ['Developer', '26166'],\n ['QA', '26373'],\n ['Marketing', '4961'],\n ['Sales', '30235'],\n ['Research', '28664'],\n ['Developer', '854'],\n ['QA', '1527'],\n ['Marketing', '19095'],\n ['Sales', '802'],\n ['Research', '12028'],\n ['Developer', '19730'],\n ['QA', '4230'],\n ['Marketing', '20693'],\n ['Sales', '30024'],\n ['Research', '26509'],\n ['Developer', '28672'],\n ['QA', '9694'],\n ['Marketing', '19383'],\n ['Sales', '5109'],\n ['Research', '30878'],\n ['Developer', '1891'],\n ['QA', '9489'],\n ['Marketing', '2365'],\n ['Sales', '4575'],\n ['Research', '30776'],\n ['Developer', '15514'],\n ['QA', '18658'],\n ['Marketing', '6825'],\n ['Sales', '1034'],\n ['Research', '17170'],\n ['Developer', '25976'],\n ['QA', '15512'],\n ['Marketing', '18823'],\n ['Sales', '30829'],\n ['Research', '22366'],\n ['Developer', '25931'],\n ['QA', '20532'],\n ['Marketing', '13467'],\n ['Sales', '27506'],\n ['Research', '17965'],\n ['Developer', '13427'],\n ['QA', '7150'],\n ['Marketing', '12812'],\n ['Sales', '17270'],\n ['Research', '1505'],\n ['Developer', '14103'],\n ['QA', '29018'],\n ['Marketing', '31533'],\n ['Sales', '27556'],\n ['Research', '28322'],\n ['Developer', '26138'],\n ['QA', '27642'],\n ['Marketing', '10195'],\n ['Sales', '7673'],\n ['Research', '27175'],\n ['Developer', '13211'],\n ['QA', '14649'],\n ['Marketing', '29983'],\n ['Sales', '29705'],\n ['Research', '5584'],\n ['Developer', '8096'],\n ['QA', '24383'],\n ['Marketing', '8854'],\n ['Sales', '14432'],\n ['Research', '17036'],\n ['Developer', '1777'],\n ['QA', '29267'],\n ['Marketing', '21468'],\n ['Sales', '18406'],\n ['Research', '23978'],\n ['Developer', '30412'],\n ['QA', '29962'],\n ['Marketing', '2840'],\n ['Sales', '650'],\n ['Research', '15323'],\n ['Developer', '11725'],\n ['QA', '761'],\n ['Marketing', '14115'],\n ['Sales', '32657'],\n ['Research', '2860'],\n ['Developer', '4006'],\n ['QA', '26615'],\n ['Marketing', '10112'],\n ['Sales', '28482'],\n ['Research', '31805'],\n ['Developer', '14928'],\n ['QA', '4086'],\n ['Marketing', '30092'],\n ['Sales', '27532'],\n ['Research', '23696'],\n ['Developer', '8319'],\n ['QA', '31889'],\n ['Marketing', '15785'],\n ['Sales', '14000'],\n ['Research', '5216'],\n ['Developer', '12595'],\n ['QA', '14051'],\n ['Marketing', '6920'],\n ['Sales', '26105'],\n ['Research', '21137'],\n ['Developer', '27454'],\n ['QA', '24189'],\n ['Marketing', '1198'],\n ['Sales', '19794'],\n ['Research', '21773'],\n ['Developer', '31047'],\n ['QA', '19052'],\n ['Marketing', '6715'],\n ['Sales', '6423'],\n ['Research', '15640'],\n ['Developer', '3861'],\n ['QA', '20108'],\n ['Marketing', '32632'],\n ['Sales', '20646'],\n ['Research', '31163'],\n ['Developer', '27634'],\n ['QA', '23862'],\n ['Marketing', '12730'],\n ['Sales', '16698'],\n ['Research', '23859'],\n ['Developer', '28518'],\n ['QA', '17903'],\n ['Marketing', '29377'],\n ['Sales', '14'],\n ['Research', '9572'],\n ['Developer', '24761'],\n ['QA', '6281'],\n ['Marketing', '24792'],\n ['Sales', '15736'],\n ['Research', '19475'],\n ['Developer', '8409'],\n ['QA', '1755'],\n ['Marketing', '8997'],\n ['Sales', '29146'],\n ['Research', '15029'],\n ['Developer', '31839'],\n ['QA', '32429'],\n ['Marketing', '4886'],\n ['Sales', '7763'],\n ['Research', '26173'],\n ['Developer', '12609'],\n ['QA', '22695'],\n ['Marketing', '30526'],\n ['Sales', '14834'],\n ['Research', '17919'],\n ['Developer', '7650'],\n ['QA', '30122'],\n ['Marketing', '1268'],\n ['Sales', '27729'],\n ['Research', '18526'],\n ['Developer', '6009'],\n ['QA', '4787'],\n ['Marketing', '13394'],\n ['Sales', '30214'],\n ['Research', '16710'],\n ['Developer', '28740'],\n ['QA', '14005'],\n ['Marketing', '16091'],\n ['Sales', '15170'],\n ['Research', '9875'],\n ['Developer', '12909'],\n ['QA', '12889'],\n ['Marketing', '6275'],\n ['Sales', '30224'],\n ['Research', '16947'],\n ['Developer', '14371'],\n ['QA', '5128'],\n ['Marketing', '8486'],\n ['Sales', '20113'],\n ['Research', '6527'],\n ['Developer', '2260'],\n ['QA', '8210'],\n ['Marketing', '7831'],\n ['Sales', '2958'],\n ['Research', '10202'],\n ['Developer', '27500'],\n ['QA', '15574'],\n ['Marketing', '4901'],\n ['Sales', '27305'],\n ['Research', '2814'],\n ['Developer', '24032'],\n ['QA', '15503'],\n ['Marketing', '24189'],\n ['Sales', '2799'],\n ['Research', '21723'],\n ['Developer', '5010'],\n ['QA', '27578'],\n ['Marketing', '3753'],\n ['Sales', '31069'],\n ['Research', '27804'],\n ['Developer', '31158'],\n ['QA', '9371'],\n ['Marketing', '31677'],\n ['Sales', '26733'],\n ['Research', '27101'],\n ['Developer', '27417'],\n ['QA', '21051'],\n ['Marketing', '14278'],\n ['Sales', '25464'],\n ['Research', '27002'],\n ['Developer', '25566'],\n ['QA', '4941'],\n ['Marketing', '25415'],\n ['Sales', '27655'],\n ['Research', '27384'],\n ['Developer', '22424'],\n ['QA', '17702'],\n ['Marketing', '31634'],\n ['Sales', '27723'],\n ['Research', '17206'],\n ['Developer', '11682'],\n ['QA', '30297'],\n ['Marketing', '29008'],\n ['Sales', '16292'],\n ['Research', '17355'],\n ['Developer', '22618'],\n ['QA', '8033'],\n ['Marketing', '20079'],\n ['Sales', '32347'],\n ['Research', '5467'],\n ['Developer', '10256'],\n ['QA', '14423'],\n ['Marketing', '4476'],\n ['Sales', '31074'],\n ['Research', '17419'],\n ['Developer', '12880'],\n ['QA', '22301'],\n ['Marketing', '22878'],\n ['Sales', '24379'],\n ['Research', '16716'],\n ['Developer', '29729'],\n ['QA', '14385'],\n ['Marketing', '7408'],\n ['Sales', '28480'],\n ['Research', '30269'],\n ['Developer', '22871'],\n ['QA', '27708'],\n ['Marketing', '31438'],\n ['Sales', '10725'],\n ['Research', '16407'],\n ['Developer', '30676'],\n ['QA', '14802'],\n ['Marketing', '31221'],\n ['Sales', '12777'],\n ['Research', '31849'],\n ['Developer', '11195'],\n ['QA', '14720'],\n ['Marketing', '16977'],\n ['Sales', '5622'],\n ['Research', '9286'],\n ['Developer', '17341'],\n ['QA', '28182'],\n ['Marketing', '2810'],\n ['Sales', '28628'],\n ['Research', '29840'],\n ['Developer', '29306'],\n ['QA', '1262'],\n ['Marketing', '19687'],\n ['Sales', '3473'],\n ['Research', '21681'],\n ['Developer', '20797'],\n ['QA', '12270'],\n ['Marketing', '30548'],\n ['Sales', '1102'],\n ['Research', '23601'],\n ['Developer', '24437'],\n ['QA', '8615'],\n ['Marketing', '3913'],\n ['Sales', '17942'],\n ['Research', '30392'],\n ['Developer', '26663'],\n ['QA', '1570'],\n ['Marketing', '22422'],\n ['Sales', '4347'],\n ['Research', '27687'],\n ['Developer', '9926'],\n ['QA', '20782'],\n ['Marketing', '21527'],\n ['Sales', '3206'],\n ['Research', '22698'],\n ['Developer', '10779'],\n ['QA', '11998'],\n ['Marketing', '7759'],\n ['Sales', '32372'],\n ['Research', '6442'],\n ['Developer', '29270'],\n ['QA', '11970'],\n ['Marketing', '8235'],\n ['Sales', '14181'],\n ['Research', '5781'],\n ['Developer', '22990'],\n ['QA', '13964'],\n ['Marketing', '20643'],\n ['Sales', '9933'],\n ['Research', '288'],\n ['Developer', '3947'],\n ['QA', '21'],\n ['Marketing', '14961'],\n ['Sales', '29701'],\n ['Research', '6164'],\n ['Developer', '30618'],\n ['QA', '28722'],\n ['Marketing', '7238'],\n ['Sales', '25432'],\n ['Research', '25922'],\n ['Developer', '6640'],\n ['QA', '2317'],\n ['Marketing', '32081'],\n ['Sales', '9483'],\n ['Research', '18203'],\n ['Developer', '26915'],\n ['QA', '19892'],\n ['Marketing', '5540'],\n ['Sales', '5126'],\n ['Research', '19763'],\n ['Developer', '3758'],\n ['QA', '28025'],\n ['Marketing', '26080'],\n ['Sales', '5710'],\n ['Research', '880'],\n ['Developer', '21053'],\n ['QA', '18163'],\n ['Marketing', '12903'],\n ['Sales', '18453'],\n ['Research', '6763'],\n ['Developer', '17360'],\n ['QA', '25271'],\n ['Marketing', '9979'],\n ['Sales', '19936'],\n ['Research', '20994'],\n ['Developer', '8742'],\n ['QA', '7529'],\n ['Marketing', '3376'],\n ['Sales', '27614'],\n ['Research', '2685'],\n ['Developer', '27142'],\n ['QA', '29028'],\n ['Marketing', '32629'],\n ['Sales', '13813'],\n ['Research', '8300'],\n ['Developer', '21349'],\n ['QA', '19099'],\n ['Marketing', '9499'],\n ['Sales', '13097'],\n ['Research', '32425'],\n ['Developer', '22510'],\n ['QA', '6183'],\n ['Marketing', '31853'],\n ['Sales', '4606'],\n ['Research', '26360'],\n ['Developer', '21896'],\n ['QA', '9187'],\n ['Marketing', '14130'],\n ['Sales', '31295'],\n ['Research', '6757'],\n ['Developer', '5817'],\n ['QA', '6240'],\n ['Marketing', '28733'],\n ['Sales', '32682'],\n ['Research', '14741'],\n ['Developer', '15679'],\n ['QA', '19966'],\n ['Marketing', '32075'],\n ['Sales', '26647'],\n ['Research', '2419'],\n ['Developer', '12565'],\n ['QA', '8887'],\n ['Marketing', '19958'],\n ['Sales', '4897'],\n ['Research', '1021'],\n ['Developer', '5495'],\n ['QA', '5477'],\n ['Marketing', '30336'],\n ['Sales', '31916'],\n ['Research', '14875'],\n ['Developer', '30131'],\n ['QA', '27290'],\n ['Marketing', '19878'],\n ['Sales', '9069'],\n ['Research', '4595'],\n ['Developer', '8681'],\n ['QA', '31415'],\n ['Marketing', '10554'],\n ['Sales', '31147'],\n ['Research', '7828'],\n ['Developer', '14949'],\n ['QA', '29625'],\n ['Marketing', '12651'],\n ['Sales', '17112'],\n ['Research', '16261'],\n ['Developer', '29898'],\n ['QA', '17417'],\n ['Marketing', '22131'],\n ['Sales', '25227'],\n ['Research', '18383'],\n ['Developer', '7130'],\n ['QA', '16617'],\n ['Marketing', '15716'],\n ['Sales', '8016'],\n ['Research', '2623'],\n ['Developer', '20430'],\n ['QA', '2240'],\n ['Marketing', '10531'],\n ['Sales', '3733'],\n ['Research', '11684'],\n ['Developer', '6924'],\n ['QA', '32306'],\n ['Marketing', '22396'],\n ['Sales', '14086'],\n ['Research', '5624'],\n ['Developer', '7726'],\n ['QA', '31720'],\n ['Marketing', '6713'],\n ['Sales', '27668'],\n ['Research', '23608'],\n ['Developer', '13014'],\n ['QA', '20073'],\n ['Marketing', '1616'],\n ['Sales', '4671'],\n ['Research', '2635'],\n ['Developer', '28801'],\n ['QA', '28008'],\n ['Marketing', '1787'],\n ['Sales', '29776'],\n ['Research', '20304'],\n ['Developer', '11393'],\n ['QA', '29519'],\n ['Marketing', '1052'],\n ['Sales', '26860'],\n ['Research', '12416'],\n ['Developer', '17802'],\n ['QA', '4087'],\n ['Marketing', '27809'],\n ['Sales', '23266'],\n ['Research', '21071'],\n ['Developer', '7441'],\n ['QA', '7687'],\n ['Marketing', '2326'],\n ['Sales', '12147'],\n ['Research', '28760'],\n ['Developer', '29608'],\n ['QA', '30206'],\n ['Marketing', '15846'],\n ['Sales', '1673'],\n ['Research', '19143'],\n ['Developer', '1143'],\n ['QA', '25646'],\n ['Marketing', '22548'],\n ['Sales', '20239'],\n ['Research', '13094'],\n ['Developer', '19572'],\n ['QA', '9774'],\n ['Marketing', '26291'],\n ['Sales', '7912'],\n ['Research', '21100'],\n ['Developer', '30665'],\n ['QA', '27997'],\n ['Marketing', '11698'],\n ['Sales', '23406'],\n ['Research', '16420'],\n ['Developer', '20911'],\n ['QA', '22272'],\n ['Marketing', '30606'],\n ['Sales', '26527'],\n ['Research', '21419'],\n ['Developer', '18113'],\n ['QA', '1423'],\n ['Marketing', '5612'],\n ['Sales', '25733'],\n ['Research', '5922'],\n ['Developer', '2502'],\n ['QA', '22901'],\n ['Marketing', '20553'],\n ['Sales', '10833'],\n ['Research', '22122'],\n ['Developer', '4718'],\n ['QA', '14461'],\n ['Marketing', '28477'],\n ['Sales', '12589'],\n ['Research', '15662'],\n ['Developer', '18713'],\n ['QA', '24512'],\n ['Marketing', '26454'],\n ['Sales', '3173'],\n ['Research', '30613'],\n ['Developer', '7389'],\n ['QA', '18266'],\n ['Marketing', '11172'],\n ['Sales', '22628'],\n ['Research', '16026'],\n ['Developer', '8011'],\n ['QA', '19767'],\n ['Marketing', '4022'],\n ['Sales', '5349'],\n ['Research', '7584'],\n ['Developer', '10874'],\n ['QA', '25585'],\n ['Marketing', '3136'],\n ['Sales', '875'],\n ['Research', '3555'],\n ['Developer', '1261'],\n ['QA', '1186'],\n ['Marketing', '18852'],\n ['Sales', '881'],\n ['Research', '7805'],\n ['Developer', '31052'],\n ['QA', '18340'],\n ['Marketing', '3076'],\n ['Sales', '12550'],\n ['Research', '8688'],\n ['Developer', '23374'],\n ['QA', '4228'],\n ['Marketing', '9575'],\n ['Sales', '19481'],\n ['Research', '22214'],\n ['Developer', '5412'],\n ['QA', '17145'],\n ['Marketing', '13193'],\n ['Sales', '15555'],\n ['Research', '17945'],\n ['Developer', '14243'],\n ['QA', '31664'],\n ['Marketing', '8324'],\n ['Sales', '4939'],\n ['Research', '27818'],\n ['Developer', '11409'],\n ['QA', '458'],\n ['Marketing', '11953'],\n ['Sales', '17069'],\n ['Research', '14800'],\n ['Developer', '12198'],\n ['QA', '31970'],\n ['Marketing', '5885'],\n ['Sales', '987'],\n ['Research', '15375'],\n ['Developer', '8872'],\n ['QA', '27138'],\n ['Marketing', '28145'],\n ['Sales', '9408'],\n ['Research', '23277'],\n ['Developer', '12220'],\n ['QA', '10821'],\n ['Marketing', '25595'],\n ['Sales', '9791'],\n ['Research', '19149'],\n ['Developer', '12189'],\n ['QA', '14524'],\n ['Marketing', '24663'],\n ['Sales', '11951'],\n ['Research', '2867'],\n ['Developer', '1398'],\n ['QA', '24454'],\n ['Marketing', '9394'],\n ['Sales', '26035'],\n ['Research', '7118'],\n ['Developer', '5035'],\n ['QA', '27529'],\n ['Marketing', '10907'],\n ['Sales', '32297'],\n ['Research', '3755'],\n ['Developer', '18448'],\n ['QA', '13365'],\n ['Marketing', '12421'],\n ['Sales', '5758'],\n ['Research', '21266'],\n ['Developer', '7615'],\n ['QA', '14214'],\n ['Marketing', '3275'],\n ['Sales', '15177'],\n ['Research', '31900'],\n ['Developer', '9558'],\n ['QA', '25971'],\n ['Marketing', '14464'],\n ['Sales', '4206'],\n ['Research', '24086'],\n ['Developer', '21743'],\n ['QA', '19263'],\n ['Marketing', '23787'],\n ['Sales', '28610'],\n ['Research', '29652'],\n ['Developer', '630'],\n ['QA', '25306'],\n ['Marketing', '6136'],\n ['Sales', '16703'],\n ['Research', '13786'],\n ['Developer', '20644'],\n ['QA', '4557'],\n ['Marketing', '31279'],\n ['Sales', '19390'],\n ['Research', '26122'],\n ['Developer', '30261'],\n ['QA', '19463'],\n ['Marketing', '5397'],\n ['Sales', '16758'],\n ['Research', '18465'],\n ['Developer', '18782'],\n ['QA', '25675'],\n ['Marketing', '6948'],\n ['Sales', '3413'],\n ['Research', '26921'],\n ['Developer', '12343'],\n ['QA', '5117'],\n ['Marketing', '1136'],\n ['Sales', '2876'],\n ['Research', '12549'],\n ['Developer', '25854'],\n ['QA', '2812'],\n ['Marketing', '28077'],\n ['Sales', '15625'],\n ['Research', '18631'],\n ['Developer', '13762'],\n ['QA', '582'],\n ['Marketing', '2383'],\n ['Sales', '22564'],\n ['Research', '22728'],\n ['Developer', '21782'],\n ['QA', '21693'],\n ['Marketing', '28365'],\n ['Sales', '30193'],\n ['Research', '19606'],\n ['Developer', '13725'],\n ['QA', '9528'],\n ['Marketing', '21759'],\n ['Sales', '24249'],\n ['Research', '29689'],\n ['Developer', '736'],\n ['QA', '26451'],\n ['Marketing', '7395'],\n ['Sales', '11590'],\n ['Research', '2708'],\n ['Developer', '21276'],\n ['QA', '7168'],\n ['Marketing', '1718'],\n ['Sales', '28641'],\n ['Research', '18105'],\n ['Developer', '22982'],\n ['QA', '210'],\n ['Marketing', '31213'],\n ['Sales', '2869'],\n ['Research', '26641'],\n ['Developer', '4663'],\n ['QA', '8983'],\n ['Marketing', '6084'],\n ['Sales', '955'],\n ['Research', '17214'],\n ['Developer', '16015'],\n ['QA', '21817'],\n ['Marketing', '26547'],\n ['Sales', '28542'],\n ['Research', '1834'],\n ['Developer', '2647'],\n ['QA', '4228'],\n ['Marketing', '4690'],\n ['Sales', '30514'],\n ['Research', '4985'],\n ['Developer', '11102'],\n ['QA', '27529'],\n ['Marketing', '14716'],\n ['Sales', '10545'],\n ['Research', '27972'],\n ['Developer', '16955'],\n ['QA', '44'],\n ['Marketing', '30244'],\n ['Sales', '25830'],\n ['Research', '25888'],\n ['Developer', '25691'],\n ['QA', '20424'],\n ['Marketing', '3467'],\n ['Sales', '26093'],\n ['Research', '26506'],\n ['Developer', '22529'],\n ['QA', '22868'],\n ['Marketing', '16032'],\n ['Sales', '22830'],\n ['Research', '1741'],\n ['Developer', '12647'],\n ['QA', '6393'],\n ['Marketing', '12866'],\n ['Sales', '14677'],\n ['Research', '6817'],\n ['Developer', '39'],\n ['QA', '11489'],\n ['Marketing', '2608'],\n ['Sales', '6172'],\n ['Research', '3844'],\n ['Developer', '7224'],\n ['QA', '26850'],\n ['Marketing', '7172'],\n ['Sales', '7623'],\n ['Research', '7345'],\n ['Developer', '25281'],\n ['QA', '13433'],\n ['Marketing', '14515'],\n ['Sales', '6361'],\n ['Research', '8495'],\n ['Developer', '15674'],\n ['QA', '2057'],\n ['Marketing', '24231'],\n ['Sales', '31978'],\n ['Research', '10765'],\n ['Developer', '23292'],\n ['QA', '6783'],\n ['Marketing', '13763'],\n ['Sales', '28289'],\n ['Research', '9300'],\n ['Developer', '17433'],\n ['QA', '26057'],\n ['Marketing', '9971'],\n ['Sales', '26003'],\n ['Research', '17004'],\n ['Developer', '25774'],\n ['QA', '3366'],\n ['Marketing', '23090'],\n ['Sales', '15458'],\n ['Research', '29145'],\n ['Developer', '13272'],\n ['QA', '1385'],\n ['Marketing', '31590'],\n ['Sales', '2831'],\n ['Research', '17497'],\n ['Developer', '1902'],\n ['QA', '30348'],\n ['Marketing', '7137'],\n ['Sales', '32307'],\n ['Research', '9487'],\n ['Developer', '10537'],\n ['QA', '32145'],\n ['Marketing', '23791'],\n ['Sales', '28331'],\n ['Research', '24490'],\n ['Developer', '27470'],\n ['QA', '31705'],\n ['Marketing', '2390'],\n ['Sales', '13971'],\n ['Research', '9820'],\n ['Developer', '6165'],\n ['QA', '17823'],\n ['Marketing', '1293'],\n ['Sales', '25014'],\n ['Research', '14693'],\n ['Developer', '23053'],\n ['QA', '24381'],\n ['Marketing', '29669'],\n ['Sales', '31562'],\n ['Research', '29278'],\n ['Developer', '14360'],\n ['QA', '31562'],\n ['Marketing', '24711'],\n ['Sales', '24584'],\n ['Research', '20722'],\n ['Developer', '6398'],\n ['QA', '5431'],\n ['Marketing', '31762'],\n ['Sales', '10834'],\n ['Research', '19173'],\n ['Developer', '22947'],\n ['QA', '14751'],\n ['Marketing', '13537'],\n ['Sales', '29318'],\n ['Research', '31370'],\n ['Developer', '22408'],\n ['QA', '24346'],\n ['Marketing', '32667'],\n ['Sales', '16820'],\n ['Research', '20916'],\n ['Developer', '11933'],\n ['QA', '1739'],\n ['Marketing', '6983'],\n ['Sales', '30873'],\n ['Research', '12421'],\n ['Developer', '4559'],\n ['QA', '23260'],\n ['Marketing', '25478'],\n ['Sales', '8009'],\n ['Research', '13537'],\n ['Developer', '27164'],\n ['QA', '1308'],\n ['Marketing', '19632'],\n ['Sales', '2683'],\n ['Research', '24645'],\n ['Developer', '8393'],\n ['QA', '15189'],\n ['Marketing', '29509'],\n ['Sales', '31564'],\n ['Research', '25977'],\n ['Developer', '17194'],\n ['QA', '9225'],\n ['Marketing', '990'],\n ['Sales', '9965'],\n ['Research', '22931'],\n ['Developer', '24995'],\n ['QA', '24848'],\n ['Marketing', '5381'],\n ['Sales', '11418'],\n ['Research', '4074'],\n ['Developer', '6544'],\n ['QA', '28224'],\n ['Marketing', '27930'],\n ['Sales', '26115'],\n ['Research', '3233'],\n ['Developer', '24953'],\n ['QA', '9427'],\n ['Marketing', '19839'],\n ['Sales', '29063'],\n ['Research', '958'],\n ['Developer', '19960'],\n ['QA', '7741'],\n ['Marketing', '5166'],\n ['Sales', '1847'],\n ['Research', '2503'],\n ['Developer', '5930'],\n ['QA', '31469'],\n ['Marketing', '11522'],\n ['Sales', '4826'],\n ['Research', '246'],\n ['Developer', '21965'],\n ['QA', '22160'],\n ['Marketing', '13571'],\n ['Sales', '3233'],\n ['Research', '27833'],\n ['Developer', '10666'],\n ['QA', '9751'],\n ['Marketing', '2269'],\n ['Sales', '15484'],\n ['Research', '9891'],\n ['Developer', '16392'],\n ['QA', '4245'],\n ['Marketing', '28696'],\n ['Sales', '24344'],\n ['Research', '17229'],\n ['Developer', '15952'],\n ['QA', '8569'],\n ['Marketing', '11715'],\n ['Sales', '10755'],\n ['Research', '22079'],\n ['Developer', '416'],\n ['QA', '28085'],\n ['Marketing', '15500'],\n ['Sales', '13792'],\n ['Research', '9028'],\n ['Developer', '2241'],\n ['QA', '22544'],\n ['Marketing', '11270'],\n ['Sales', '29814'],\n ['Research', '12566'],\n ['Developer', '26323'],\n ['QA', '23978'],\n ['Marketing', '32758'],\n ['Sales', '6389'],\n ['Research', '15709'],\n ['Developer', '32220'],\n ['QA', '14490'],\n ['Marketing', '10067'],\n ['Sales', '4498'],\n ['Research', '24734'],\n ['Developer', '24758'],\n ['QA', '6762'],\n ['Marketing', '25549'],\n ['Sales', '21740'],\n ['Research', '2229'],\n ['Developer', '24417'],\n ['QA', '3197'],\n ['Marketing', '11224'],\n ['Sales', '9357'],\n ['Research', '32542'],\n ['Developer', '11731'],\n ['QA', '12322'],\n ['Marketing', '14916'],\n ['Sales', '30903'],\n ['Research', '31232'],\n ['Developer', '29235'],\n ['QA', '9055'],\n ['Marketing', '2169'],\n ['Sales', '30844'],\n ['Research', '15234'],\n ['Developer', '10160'],\n ['QA', '18420'],\n ['Marketing', '5283'],\n ['Sales', '4747'],\n ['Research', '3104'],\n ['Developer', '12621'],\n ['QA', '25722'],\n ['Marketing', '23149'],\n ['Sales', '32682'],\n ['Research', '7281'],\n ['Developer', '29907'],\n ['QA', '9662'],\n ['Marketing', '12709'],\n ['Sales', '2671'],\n ['Research', '10884'],\n ['Developer', '26494'],\n ['QA', '13688'],\n ['Marketing', '6466'],\n ['Sales', '32716'],\n ['Research', '18751'],\n ['Developer', '27067'],\n ['QA', '18163'],\n ['Marketing', '6177'],\n ['Sales', '23644'],\n ['Research', '30986'],\n ['Developer', '16803'],\n ['QA', '28996'],\n ['Marketing', '21691'],\n ['Sales', '25206'],\n ['Research', '1827'],\n ['Developer', '11795'],\n ['QA', '1284'],\n ['Marketing', '32572'],\n ['Sales', '3589'],\n ['Research', '11594'],\n ['Developer', '3459'],\n ['QA', '24496'],\n ['Marketing', '17983'],\n ['Sales', '6116'],\n ['Research', '11566'],\n ['Developer', '26517'],\n ['QA', '16760'],\n ['Marketing', '29007'],\n ['Sales', '13492'],\n ['Research', '29463'],\n ['Developer', '4227'],\n ['QA', '25220'],\n ['Marketing', '6915'],\n ['Sales', '5812'],\n ['Research', '15460'],\n ['Developer', '8293'],\n ['QA', '5067'],\n ['Marketing', '14641'],\n ['Sales', '25791'],\n ['Research', '27903'],\n ['Developer', '10673'],\n ['QA', '31812'],\n ['Marketing', '9104'],\n ['Sales', '25745'],\n ['Research', '2361'],\n ['Developer', '17727'],\n ['QA', '28573'],\n ['Marketing', '29163'],\n ['Sales', '15298'],\n ['Research', '28164'],\n ['Developer', '3931'],\n ['QA', '29280'],\n ['Marketing', '9058'],\n ...]"
      ]
     }
    }
   ],
   "execution_count": 0
  },
  {
   "cell_type": "code",
   "source": [
    "# Apply patternmatch\n",
    "import re\n",
    "wordList=['Shakespeare', 'why', 'Lord', 'Library', 'GUTENBERG', 'WILLIAM', 'COLLEGE' , 'WORLD']\n",
    "## Read the files to rdd\n",
    "q3_rdd = spark.sparkContext.textFile(\"/FileStore/shared_uploads/waynewei.lin@mail.utoronto.ca/shakespeare_1.txt\")\n",
    "## Split the article by each notation is not word, digit and dashline.\n",
    "## Apply flatMap to get  [] instead of [[]]\n",
    "q3_rdd=q3_rdd.flatMap(lambda line: re.split(r'\\W+', line))\n",
    "q3_rdd=q3_rdd.filter(lambda x: x in wordList)\n",
    "# ## Map function\n",
    "q3_rdd=q3_rdd.map(lambda x: (x,int(1)))\n",
    "rddresult=q3_rdd.reduceByKey(lambda x,y: x+y)\n",
    "rddresult=rddresult.sortBy(lambda x:x[1], ascending=False, numPartitions=1)\n",
    "rddresult.collect()"
   ],
   "metadata": {
    "application/vnd.databricks.v1+cell": {
     "showTitle": false,
     "cellMetadata": {},
     "nuid": "14405cd2-8285-4b8c-a590-181bf1504578",
     "inputWidgets": {},
     "title": ""
    }
   },
   "outputs": [
    {
     "output_type": "display_data",
     "metadata": {
      "application/vnd.databricks.v1+output": {
       "name": null,
       "datasetInfos": [],
       "data": "Out[33]: [('Lord', 402),\n ('WILLIAM', 128),\n ('why', 114),\n ('GUTENBERG', 100),\n ('WORLD', 98),\n ('COLLEGE', 98),\n ('Shakespeare', 22),\n ('Library', 5)]",
       "removedWidgets": [],
       "addedWidgets": {},
       "metadata": {},
       "type": "ansi",
       "arguments": {}
      }
     },
     "data": {
      "text/plain": [
       "Out[33]: [('Lord', 402),\n ('WILLIAM', 128),\n ('why', 114),\n ('GUTENBERG', 100),\n ('WORLD', 98),\n ('COLLEGE', 98),\n ('Shakespeare', 22),\n ('Library', 5)]"
      ]
     }
    }
   ],
   "execution_count": 0
  },
  {
   "cell_type": "code",
   "source": [
    "## Read the files to rdd\n",
    "q4_rdd = spark.sparkContext.textFile(\"/FileStore/shared_uploads/waynewei.lin@mail.utoronto.ca/shakespeare_1.txt\")\n",
    "\n",
    "## Split the article by each notation is not word, digit and dashline.\n",
    "q4_rdd=q4_rdd.flatMap(lambda line: re.split(r'\\W+', line))\n",
    "## Apply flatMap to get  [] instead of [[]]\n",
    "q4_rdd=q4_rdd.filter(lambda x: x !='')\n",
    "## Map function\n",
    "q4_rdd=q4_rdd.map(lambda x: (x,int(1)))\n",
    "rddresult=q4_rdd.reduceByKey(lambda x,y: x+y)\n",
    "## Sort by key's value\n",
    "rddresult=rddresult.sortBy(lambda x: x[1], ascending=False, numPartitions=1)"
   ],
   "metadata": {
    "application/vnd.databricks.v1+cell": {
     "showTitle": false,
     "cellMetadata": {},
     "nuid": "55b5eb16-f39a-49b6-8ed2-9bdc98ca14a4",
     "inputWidgets": {},
     "title": ""
    }
   },
   "outputs": [],
   "execution_count": 0
  },
  {
   "cell_type": "code",
   "source": [
    "## Top ten\n",
    "rddresult.collect()[:10]"
   ],
   "metadata": {
    "application/vnd.databricks.v1+cell": {
     "showTitle": false,
     "cellMetadata": {},
     "nuid": "abf75f26-0916-46bb-995c-27aff4063ed9",
     "inputWidgets": {},
     "title": ""
    }
   },
   "outputs": [
    {
     "output_type": "display_data",
     "metadata": {
      "application/vnd.databricks.v1+output": {
       "name": null,
       "datasetInfos": [],
       "data": "Out[54]: [('the', 11412),\n ('I', 9714),\n ('and', 8942),\n ('of', 7968),\n ('to', 7742),\n ('a', 5796),\n ('you', 5360),\n ('my', 4922),\n ('in', 4803),\n ('d', 4365)]",
       "removedWidgets": [],
       "addedWidgets": {},
       "metadata": {},
       "type": "ansi",
       "arguments": {}
      }
     },
     "data": {
      "text/plain": [
       "Out[54]: [('the', 11412),\n ('I', 9714),\n ('and', 8942),\n ('of', 7968),\n ('to', 7742),\n ('a', 5796),\n ('you', 5360),\n ('my', 4922),\n ('in', 4803),\n ('d', 4365)]"
      ]
     }
    }
   ],
   "execution_count": 0
  },
  {
   "cell_type": "code",
   "source": [
    "## Last 10\n",
    "rddresult.collect()[-10:]"
   ],
   "metadata": {
    "application/vnd.databricks.v1+cell": {
     "showTitle": false,
     "cellMetadata": {},
     "nuid": "a56a0e83-81d5-42dc-9f41-8a5e6b30a77b",
     "inputWidgets": {},
     "title": ""
    }
   },
   "outputs": [
    {
     "output_type": "display_data",
     "metadata": {
      "application/vnd.databricks.v1+output": {
       "name": null,
       "datasetInfos": [],
       "data": "Out[55]: [('mourned', 1),\n ('clamors', 1),\n ('Tending', 1),\n ('Bequeathing', 1),\n ('unkindest', 1),\n ('revenged', 1),\n ('ruffle', 1),\n ('arbors', 1),\n ('forever', 1),\n ('Mischief', 1)]",
       "removedWidgets": [],
       "addedWidgets": {},
       "metadata": {},
       "type": "ansi",
       "arguments": {}
      }
     },
     "data": {
      "text/plain": [
       "Out[55]: [('mourned', 1),\n ('clamors', 1),\n ('Tending', 1),\n ('Bequeathing', 1),\n ('unkindest', 1),\n ('revenged', 1),\n ('ruffle', 1),\n ('arbors', 1),\n ('forever', 1),\n ('Mischief', 1)]"
      ]
     }
    }
   ],
   "execution_count": 0
  },
  {
   "cell_type": "code",
   "source": [
    "from pyspark.ml.recommendation import ALS\n",
    "from pyspark.ml.evaluation import RegressionEvaluator\n",
    "from pyspark.ml.tuning import ParamGridBuilder, CrossValidator, TrainValidationSplit\n",
    "# Read the file to dataframe\n",
    "# Ref:https://sparkbyexamples.com/pyspark/pyspark-read-csv-file-into-dataframe/\n",
    "df = spark.read.format(\"csv\").option(\"inferSchema\", True).option(\"header\", True).option(\"sep\", ',').option(\"path\", '/FileStore/shared_uploads/waynewei.lin@mail.utoronto.ca/movies.csv').load()\n",
    "# checknull ref:https://stackoverflow.com/questions/44627386/how-to-find-count-of-null-and-nan-values-for-each-column-in-a-pyspark-dataframe\n",
    "df.select([count(when(isnan(c) | col(c).isNull(), c)).alias(c) for c in df.columns]).show()\n",
    "# show the statistic result\n",
    "df.describe().show()"
   ],
   "metadata": {
    "application/vnd.databricks.v1+cell": {
     "showTitle": false,
     "cellMetadata": {},
     "nuid": "5d28c809-e69e-4867-9b9f-5dd0117fc444",
     "inputWidgets": {},
     "title": ""
    }
   },
   "outputs": [
    {
     "output_type": "display_data",
     "metadata": {
      "application/vnd.databricks.v1+output": {
       "name": null,
       "datasetInfos": [],
       "data": "+-------+------+------+\n|movieId|rating|userId|\n+-------+------+------+\n|      0|     0|     0|\n+-------+------+------+\n\n+-------+------------------+------------------+------------------+\n|summary|           movieId|            rating|            userId|\n+-------+------------------+------------------+------------------+\n|  count|              1501|              1501|              1501|\n|   mean| 49.40572951365756|1.7741505662891406|14.383744170552964|\n| stddev|28.937034065088994| 1.187276166124803| 8.591040424293272|\n|    min|                 0|                 1|                 0|\n|    max|                99|                 5|                29|\n+-------+------------------+------------------+------------------+\n\n",
       "removedWidgets": [],
       "addedWidgets": {},
       "metadata": {},
       "type": "ansi",
       "arguments": {}
      }
     },
     "data": {
      "text/plain": [
       "+-------+------+------+\n|movieId|rating|userId|\n+-------+------+------+\n|      0|     0|     0|\n+-------+------+------+\n\n+-------+------------------+------------------+------------------+\n|summary|           movieId|            rating|            userId|\n+-------+------------------+------------------+------------------+\n|  count|              1501|              1501|              1501|\n|   mean| 49.40572951365756|1.7741505662891406|14.383744170552964|\n| stddev|28.937034065088994| 1.187276166124803| 8.591040424293272|\n|    min|                 0|                 1|                 0|\n|    max|                99|                 5|                29|\n+-------+------------------+------------------+------------------+\n\n"
      ]
     }
    }
   ],
   "execution_count": 0
  },
  {
   "cell_type": "code",
   "source": [
    "# Top 20\n",
    "from pyspark.sql import functions as F\n",
    "df.groupBy('movieId').agg(F.mean('rating')).sort(col('avg(rating)').desc()).show(20)"
   ],
   "metadata": {
    "application/vnd.databricks.v1+cell": {
     "showTitle": false,
     "cellMetadata": {},
     "nuid": "015b70d3-683c-41f8-be1f-6e16be264f30",
     "inputWidgets": {},
     "title": ""
    }
   },
   "outputs": [
    {
     "output_type": "display_data",
     "metadata": {
      "application/vnd.databricks.v1+output": {
       "name": null,
       "datasetInfos": [],
       "data": "+-------+------------------+\n|movieId|       avg(rating)|\n+-------+------------------+\n|     32|2.9166666666666665|\n|     90|            2.8125|\n|     30|               2.5|\n|     94| 2.473684210526316|\n|     23| 2.466666666666667|\n|     49|            2.4375|\n|     29|               2.4|\n|     18|               2.4|\n|     52| 2.357142857142857|\n|     53|              2.25|\n|     62|              2.25|\n|     92|2.2142857142857144|\n|     46|               2.2|\n|     68|2.1578947368421053|\n|     87|2.1333333333333333|\n|      2|2.1052631578947367|\n|     69| 2.076923076923077|\n|     27| 2.066666666666667|\n|     88|2.0555555555555554|\n|     22|              2.05|\n+-------+------------------+\nonly showing top 20 rows\n\n",
       "removedWidgets": [],
       "addedWidgets": {},
       "metadata": {},
       "type": "ansi",
       "arguments": {}
      }
     },
     "data": {
      "text/plain": [
       "+-------+------------------+\n|movieId|       avg(rating)|\n+-------+------------------+\n|     32|2.9166666666666665|\n|     90|            2.8125|\n|     30|               2.5|\n|     94| 2.473684210526316|\n|     23| 2.466666666666667|\n|     49|            2.4375|\n|     29|               2.4|\n|     18|               2.4|\n|     52| 2.357142857142857|\n|     53|              2.25|\n|     62|              2.25|\n|     92|2.2142857142857144|\n|     46|               2.2|\n|     68|2.1578947368421053|\n|     87|2.1333333333333333|\n|      2|2.1052631578947367|\n|     69| 2.076923076923077|\n|     27| 2.066666666666667|\n|     88|2.0555555555555554|\n|     22|              2.05|\n+-------+------------------+\nonly showing top 20 rows\n\n"
      ]
     }
    }
   ],
   "execution_count": 0
  },
  {
   "cell_type": "code",
   "source": [
    "# Top 15 user\n",
    "df.filter(df['rating']==5).groupBy('userId').count().sort(col('count').desc()).show(15)"
   ],
   "metadata": {
    "application/vnd.databricks.v1+cell": {
     "showTitle": false,
     "cellMetadata": {},
     "nuid": "a344dcba-fda1-4c24-94c1-a3222f523ffe",
     "inputWidgets": {},
     "title": ""
    }
   },
   "outputs": [
    {
     "output_type": "display_data",
     "metadata": {
      "application/vnd.databricks.v1+output": {
       "name": null,
       "datasetInfos": [],
       "data": "+------+-----+\n|userId|count|\n+------+-----+\n|    11|    8|\n|    26|    6|\n|    22|    6|\n|    23|    6|\n|    17|    5|\n|    24|    5|\n|     2|    5|\n|    12|    4|\n|    16|    4|\n|     8|    4|\n|    14|    4|\n|    18|    4|\n|    28|    3|\n|     9|    2|\n|    21|    2|\n+------+-----+\nonly showing top 15 rows\n\n",
       "removedWidgets": [],
       "addedWidgets": {},
       "metadata": {},
       "type": "ansi",
       "arguments": {}
      }
     },
     "data": {
      "text/plain": [
       "+------+-----+\n|userId|count|\n+------+-----+\n|    11|    8|\n|    26|    6|\n|    22|    6|\n|    23|    6|\n|    17|    5|\n|    24|    5|\n|     2|    5|\n|    12|    4|\n|    16|    4|\n|     8|    4|\n|    14|    4|\n|    18|    4|\n|    28|    3|\n|     9|    2|\n|    21|    2|\n+------+-----+\nonly showing top 15 rows\n\n"
      ]
     }
    }
   ],
   "execution_count": 0
  },
  {
   "cell_type": "code",
   "source": [
    "# Q2:\n",
    "# Split the dataset into train and test. Try 2 different combinations\n",
    "# e.g. (60/40, 70/30, 75/25 and 80/20). (Train your model and use a\n",
    "# collaborative filtering approach on 70 percent of your data and test with the\n",
    "# other 30 percent and so on). Show your code and output.\n",
    "tr1_df, test1_df = df.randomSplit(weights=[0.6,0.4], seed=0)\n",
    "tr2_df, test2_df = df.randomSplit(weights=[0.8,0.2], seed=0)\n",
    "## Recommend system\n",
    "recom_system = ALS(userCol= \"userId\", itemCol= \"movieId\", ratingCol=\"rating\", coldStartStrategy = \"drop\")\n",
    "## Train model in different train set\n",
    "s1 = recom_system.fit(tr1_df)\n",
    "s2 = recom_system.fit(tr2_df)\n",
    "## Get the prediction\n",
    "res1 = s1.transform(test1_df)\n",
    "res2 = s2.transform(test2_df)"
   ],
   "metadata": {
    "application/vnd.databricks.v1+cell": {
     "showTitle": false,
     "cellMetadata": {},
     "nuid": "7d42d57d-d0ab-4c9e-a744-73c9842f1d8a",
     "inputWidgets": {},
     "title": ""
    }
   },
   "outputs": [],
   "execution_count": 0
  },
  {
   "cell_type": "code",
   "source": [
    "res1.show(1)\n",
    "res2.show(2)"
   ],
   "metadata": {
    "application/vnd.databricks.v1+cell": {
     "showTitle": false,
     "cellMetadata": {},
     "nuid": "0db29601-542a-4687-b024-52276b16a06b",
     "inputWidgets": {},
     "title": ""
    }
   },
   "outputs": [
    {
     "output_type": "display_data",
     "metadata": {
      "application/vnd.databricks.v1+output": {
       "name": null,
       "datasetInfos": [],
       "data": "+-------+------+------+----------+\n|movieId|rating|userId|prediction|\n+-------+------+------+----------+\n|      7|     1|    28| 2.0329728|\n+-------+------+------+----------+\nonly showing top 1 row\n\n+-------+------+------+----------+\n|movieId|rating|userId|prediction|\n+-------+------+------+----------+\n|      7|     1|    28| 2.1003573|\n|     17|     1|    28| 0.7874142|\n+-------+------+------+----------+\nonly showing top 2 rows\n\n",
       "removedWidgets": [],
       "addedWidgets": {},
       "metadata": {},
       "type": "ansi",
       "arguments": {}
      }
     },
     "data": {
      "text/plain": [
       "+-------+------+------+----------+\n|movieId|rating|userId|prediction|\n+-------+------+------+----------+\n|      7|     1|    28| 2.0329728|\n+-------+------+------+----------+\nonly showing top 1 row\n\n+-------+------+------+----------+\n|movieId|rating|userId|prediction|\n+-------+------+------+----------+\n|      7|     1|    28| 2.1003573|\n|     17|     1|    28| 0.7874142|\n+-------+------+------+----------+\nonly showing top 2 rows\n\n"
      ]
     }
    }
   ],
   "execution_count": 0
  },
  {
   "cell_type": "code",
   "source": [
    "# Q3.\n",
    "# Explain MSE, RMSE and MAE. Compare and evaluate both of\n",
    "# your models with evaluation metrics (RMSE or MAE), show your code and\n",
    "# print your results. Describe which one works better and why?"
   ],
   "metadata": {
    "application/vnd.databricks.v1+cell": {
     "showTitle": false,
     "cellMetadata": {},
     "nuid": "a4d96b0e-44fe-4093-a40e-4100e02424bb",
     "inputWidgets": {},
     "title": ""
    }
   },
   "outputs": [],
   "execution_count": 0
  },
  {
   "cell_type": "code",
   "source": [
    "# MSE\n",
    "eva_mse = RegressionEvaluator(metricName= \"mse\", labelCol= \"rating\",predictionCol= \"prediction\")\n",
    "err1 = eva_mse.evaluate(res1)\n",
    "err2 = eva_mse.evaluate(res2)\n",
    "\n",
    "print('The mse for s1: %s. The mse for s2: %s' %(err1,err2))"
   ],
   "metadata": {
    "application/vnd.databricks.v1+cell": {
     "showTitle": false,
     "cellMetadata": {},
     "nuid": "363ee939-6422-4306-aa4f-cd96fee55f2f",
     "inputWidgets": {},
     "title": ""
    }
   },
   "outputs": [
    {
     "output_type": "display_data",
     "metadata": {
      "application/vnd.databricks.v1+output": {
       "name": null,
       "datasetInfos": [],
       "data": "The mse for s1: 1.0080610852274943. The mse for s2: 0.8094695596858505\n",
       "removedWidgets": [],
       "addedWidgets": {},
       "metadata": {},
       "type": "ansi",
       "arguments": {}
      }
     },
     "data": {
      "text/plain": [
       "The mse for s1: 1.0080610852274943. The mse for s2: 0.8094695596858505\n"
      ]
     }
    }
   ],
   "execution_count": 0
  },
  {
   "cell_type": "code",
   "source": [
    "# RMSE\n",
    "eva_rmse = RegressionEvaluator(metricName= \"rmse\", labelCol= \"rating\",predictionCol= \"prediction\")\n",
    "err1 = eva_rmse.evaluate(res1)\n",
    "err2 = eva_rmse.evaluate(res2)\n",
    "\n",
    "print('The rmse for s1: %s. The rmse for s2: %s' %(err1,err2))"
   ],
   "metadata": {
    "application/vnd.databricks.v1+cell": {
     "showTitle": false,
     "cellMetadata": {},
     "nuid": "53b9c95f-dc84-4872-9a95-0bcbcedd4736",
     "inputWidgets": {},
     "title": ""
    }
   },
   "outputs": [
    {
     "output_type": "display_data",
     "metadata": {
      "application/vnd.databricks.v1+output": {
       "name": null,
       "datasetInfos": [],
       "data": "The rmse for s1: 1.0040224525514827. The rmse for s2: 0.8997052626754223\n",
       "removedWidgets": [],
       "addedWidgets": {},
       "metadata": {},
       "type": "ansi",
       "arguments": {}
      }
     },
     "data": {
      "text/plain": [
       "The rmse for s1: 1.0040224525514827. The rmse for s2: 0.8997052626754223\n"
      ]
     }
    }
   ],
   "execution_count": 0
  },
  {
   "cell_type": "code",
   "source": [
    "# MAE\n",
    "eva_mae = RegressionEvaluator(metricName= \"mae\", labelCol= \"rating\",predictionCol= \"prediction\")\n",
    "err1 = eva_mae.evaluate(res1)\n",
    "err2 = eva_mae.evaluate(res2)\n",
    "\n",
    "print('The mae for s1: %s. The mae for s2: %s' %(err1,err2))"
   ],
   "metadata": {
    "application/vnd.databricks.v1+cell": {
     "showTitle": false,
     "cellMetadata": {},
     "nuid": "1a44deb1-22d7-4417-b886-0d47bc00a2f9",
     "inputWidgets": {},
     "title": ""
    }
   },
   "outputs": [
    {
     "output_type": "display_data",
     "metadata": {
      "application/vnd.databricks.v1+output": {
       "name": null,
       "datasetInfos": [],
       "data": "The mae for s1: 0.7047635377575254. The mae for s2: 0.6497222226370806\n",
       "removedWidgets": [],
       "addedWidgets": {},
       "metadata": {},
       "type": "ansi",
       "arguments": {}
      }
     },
     "data": {
      "text/plain": [
       "The mae for s1: 0.7047635377575254. The mae for s2: 0.6497222226370806\n"
      ]
     }
    }
   ],
   "execution_count": 0
  },
  {
   "cell_type": "code",
   "source": [
    "# Q4:\n",
    "# Now tune the parameters of your algorithm to get the best set of\n",
    "# parameters. Explain different parameters of the algorithm which you have\n",
    "# used for tuning your algorithm. Evaluate all your models again. Show your\n",
    "# code with the best values and output.\n",
    "\n",
    "# Build the param_grid ref https://campus.datacamp.com/courses/recommendation-engines-in-pyspark/recommending-movies?ex=9\n",
    "param_grid = ParamGridBuilder().addGrid(recom_system.regParam, [0.05,0.1,1]).addGrid(recom_system.rank,[5,10,20]).addGrid(recom_system.maxIter, [10,15,20]).build()\n",
    "## train val split\n",
    "trainvs = TrainValidationSplit(estimator=recom_system, estimatorParamMaps=param_grid, evaluator=eva_rmse)\n",
    "# Train the model\n",
    "model = trainvs.fit(tr2_df)\n",
    "## get the model result\n",
    "recom_system=model.bestModel\n",
    "print('The best regularization parameter: ',recom_system._java_obj.parent().getRegParam())\n",
    "print('The best ranks: ',recom_system._java_obj.parent().getRank())\n",
    "print('The best maximum iterations:',recom_system._java_obj.parent().getMaxIter())\n",
    "## get the final result\n",
    "pred_tune = recom_system.transform(test2_df)\n",
    "err_tune = eva_rmse.evaluate(pred_tune)\n",
    "print('The error score is :',err_tune)"
   ],
   "metadata": {
    "application/vnd.databricks.v1+cell": {
     "showTitle": false,
     "cellMetadata": {},
     "nuid": "ac9b8642-ca2b-4cc1-8dd7-f71ad2fe9ddb",
     "inputWidgets": {},
     "title": ""
    }
   },
   "outputs": [
    {
     "output_type": "display_data",
     "metadata": {
      "application/vnd.databricks.v1+output": {
       "name": null,
       "datasetInfos": [],
       "data": "The best regularization parameter:  0.1\nThe best ranks:  10\nThe best maximum iterations: 10\nThe error score is : 0.8997052626754223\n",
       "removedWidgets": [],
       "addedWidgets": {},
       "metadata": {},
       "type": "ansi",
       "arguments": {}
      }
     },
     "data": {
      "text/plain": [
       "The best regularization parameter:  0.1\nThe best ranks:  10\nThe best maximum iterations: 10\nThe error score is : 0.8997052626754223\n"
      ]
     }
    }
   ],
   "execution_count": 0
  },
  {
   "cell_type": "code",
   "source": [
    "pred_tune = recom_system.transform(test1_df)\n",
    "err_tune = eva_rmse.evaluate(pred_tune)\n",
    "print('The error score is :',err_tune)"
   ],
   "metadata": {
    "application/vnd.databricks.v1+cell": {
     "showTitle": false,
     "cellMetadata": {},
     "nuid": "9bd9b2c8-69f5-4821-880b-1e68969954df",
     "inputWidgets": {},
     "title": ""
    }
   },
   "outputs": [
    {
     "output_type": "display_data",
     "metadata": {
      "application/vnd.databricks.v1+output": {
       "name": null,
       "datasetInfos": [],
       "data": "The error score is : 0.6905315169857084\n",
       "removedWidgets": [],
       "addedWidgets": {},
       "metadata": {},
       "type": "ansi",
       "arguments": {}
      }
     },
     "data": {
      "text/plain": [
       "The error score is : 0.6905315169857084\n"
      ]
     }
    }
   ],
   "execution_count": 0
  },
  {
   "cell_type": "code",
   "source": [
    "# Q5\n",
    "# Calculate the top 15 movie recommendations for user id 10 and\n",
    "# user id 14. Show your code and output.\n",
    "\n",
    "# Top 15 for user 10\n",
    "df10 = df.filter(\"userId = 10\")\n",
    "pred10 = model.bestModel.transform(df10)\n",
    "pred10.sort('prediction', ascending=False).show(15)"
   ],
   "metadata": {
    "application/vnd.databricks.v1+cell": {
     "showTitle": false,
     "cellMetadata": {},
     "nuid": "86272032-050c-4ffe-89c0-81e31c31a587",
     "inputWidgets": {},
     "title": ""
    }
   },
   "outputs": [
    {
     "output_type": "display_data",
     "metadata": {
      "application/vnd.databricks.v1+output": {
       "name": null,
       "datasetInfos": [],
       "data": "+-------+------+------+----------+\n|movieId|rating|userId|prediction|\n+-------+------+------+----------+\n|      2|     4|    10| 3.1101015|\n|     25|     3|    10| 2.7952857|\n|     49|     3|    10|  2.713843|\n|     89|     3|    10| 2.4977088|\n|     42|     3|    10|  2.355872|\n|      0|     3|    10| 1.9767134|\n|     58|     1|    10| 1.8737819|\n|     41|     2|    10| 1.8255126|\n|     16|     2|    10| 1.7794192|\n|     55|     2|    10| 1.6450983|\n|     35|     1|    10| 1.5699247|\n|      4|     3|    10| 1.5345981|\n|     24|     1|    10|  1.409134|\n|     13|     2|    10| 1.4072218|\n|     67|     2|    10| 1.3509274|\n+-------+------+------+----------+\nonly showing top 15 rows\n\n",
       "removedWidgets": [],
       "addedWidgets": {},
       "metadata": {},
       "type": "ansi",
       "arguments": {}
      }
     },
     "data": {
      "text/plain": [
       "+-------+------+------+----------+\n|movieId|rating|userId|prediction|\n+-------+------+------+----------+\n|      2|     4|    10| 3.1101015|\n|     25|     3|    10| 2.7952857|\n|     49|     3|    10|  2.713843|\n|     89|     3|    10| 2.4977088|\n|     42|     3|    10|  2.355872|\n|      0|     3|    10| 1.9767134|\n|     58|     1|    10| 1.8737819|\n|     41|     2|    10| 1.8255126|\n|     16|     2|    10| 1.7794192|\n|     55|     2|    10| 1.6450983|\n|     35|     1|    10| 1.5699247|\n|      4|     3|    10| 1.5345981|\n|     24|     1|    10|  1.409134|\n|     13|     2|    10| 1.4072218|\n|     67|     2|    10| 1.3509274|\n+-------+------+------+----------+\nonly showing top 15 rows\n\n"
      ]
     }
    }
   ],
   "execution_count": 0
  },
  {
   "cell_type": "code",
   "source": [
    "# Top 15 for user 14\n",
    "df14 = df.filter(\"userId = 14\")\n",
    "pred14 = model.bestModel.transform(df14)\n",
    "pred14.sort('prediction', ascending=False).show(15)"
   ],
   "metadata": {
    "application/vnd.databricks.v1+cell": {
     "showTitle": false,
     "cellMetadata": {},
     "nuid": "05c54132-2a06-46c6-b4d8-d11d8f273b00",
     "inputWidgets": {},
     "title": ""
    }
   },
   "outputs": [
    {
     "output_type": "display_data",
     "metadata": {
      "application/vnd.databricks.v1+output": {
       "name": null,
       "datasetInfos": [],
       "data": "+-------+------+------+----------+\n|movieId|rating|userId|prediction|\n+-------+------+------+----------+\n|     29|     5|    14| 4.4985104|\n|     63|     5|    14|  4.286728|\n|     76|     5|    14|  4.259585|\n|     25|     2|    14| 3.9678726|\n|     52|     5|    14| 3.6627471|\n|     72|     4|    14| 3.5141947|\n|     53|     3|    14| 3.4895554|\n|     96|     4|    14|   3.37187|\n|     62|     4|    14|  3.204994|\n|     95|     2|    14|  2.944099|\n|     93|     3|    14| 2.8005564|\n|     69|     3|    14| 2.6486988|\n|     14|     3|    14| 2.6328382|\n|     67|     3|    14|  2.514058|\n|     31|     3|    14| 2.2296677|\n+-------+------+------+----------+\nonly showing top 15 rows\n\n",
       "removedWidgets": [],
       "addedWidgets": {},
       "metadata": {},
       "type": "ansi",
       "arguments": {}
      }
     },
     "data": {
      "text/plain": [
       "+-------+------+------+----------+\n|movieId|rating|userId|prediction|\n+-------+------+------+----------+\n|     29|     5|    14| 4.4985104|\n|     63|     5|    14|  4.286728|\n|     76|     5|    14|  4.259585|\n|     25|     2|    14| 3.9678726|\n|     52|     5|    14| 3.6627471|\n|     72|     4|    14| 3.5141947|\n|     53|     3|    14| 3.4895554|\n|     96|     4|    14|   3.37187|\n|     62|     4|    14|  3.204994|\n|     95|     2|    14|  2.944099|\n|     93|     3|    14| 2.8005564|\n|     69|     3|    14| 2.6486988|\n|     14|     3|    14| 2.6328382|\n|     67|     3|    14|  2.514058|\n|     31|     3|    14| 2.2296677|\n+-------+------+------+----------+\nonly showing top 15 rows\n\n"
      ]
     }
    }
   ],
   "execution_count": 0
  }
 ],
 "metadata": {
  "application/vnd.databricks.v1+notebook": {
   "notebookName": "weiass2",
   "dashboards": [],
   "notebookMetadata": {
    "pythonIndentUnit": 4
   },
   "language": "python",
   "widgets": {},
   "notebookOrigID": 1334494057548403
  }
 },
 "nbformat": 4,
 "nbformat_minor": 0
}
